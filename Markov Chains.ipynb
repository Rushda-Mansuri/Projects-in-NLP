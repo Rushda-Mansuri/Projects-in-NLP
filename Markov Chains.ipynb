{
  "cells": [
    {
      "cell_type": "markdown",
      "metadata": {
        "id": "0fr7_vl64Yyu"
      },
      "source": [
        "##<font color='#fd79a8'> Markov Chains"
      ]
    },
    {
      "cell_type": "code",
      "execution_count": null,
      "metadata": {
        "id": "dU0cNwSI5fla"
      },
      "outputs": [],
      "source": [
        "import numpy as np\n",
        "import random as rm"
      ]
    },
    {
      "cell_type": "code",
      "execution_count": null,
      "metadata": {
        "id": "jV7OruwI5iOj"
      },
      "outputs": [],
      "source": [
        "states = ['Sleep','Netflix','Gym']"
      ]
    },
    {
      "cell_type": "code",
      "execution_count": null,
      "metadata": {
        "id": "g65sytc-5mpf"
      },
      "outputs": [],
      "source": [
        "#sequence of next possible states\n",
        "transition = [[\"SS\",\"SG\",\"SN\"],[\"NS\",\"NG\",\"NN\"],[\"GS\",\"GG\",\"GN\"]]"
      ]
    },
    {
      "cell_type": "code",
      "execution_count": null,
      "metadata": {
        "id": "O9FkNYMO6Jop"
      },
      "outputs": [],
      "source": [
        "#from the previous state model, substituting the state with probabilities\n",
        "ProbabilityMatrix = [[0.1,0.7,0.2],[0.1,0.7,0.2],[0.6,0.1,0.3]]"
      ]
    },
    {
      "cell_type": "markdown",
      "metadata": {
        "id": "IOAh4CQIsai3"
      },
      "source": [
        "###<font color='#fd79a8'>  Predict the next state using Markov Chain, based on current state. "
      ]
    },
    {
      "cell_type": "markdown",
      "metadata": {
        "id": "RaLk96ZlO8RN"
      },
      "source": [
        "numpy.random.choice(a, size=None, replace=True, p=None)\n",
        "<br>a: random sample is generated from its elements\n",
        "Generates a random sample from a given 1-D array<br>p: The probabilities associated with each entry in a. If not given the sample assumes a uniform distribution over all entries in a"
      ]
    },
    {
      "cell_type": "code",
      "execution_count": null,
      "metadata": {
        "id": "C34CoQog6_Pg"
      },
      "outputs": [],
      "source": [
        "def predict_state(days):\n",
        "  activityToday = \"Sleep\"\n",
        "  print(\"Start State : \",activityToday)\n",
        "  #predicting based on just the previous state\n",
        "  activityList = [activityToday]\n",
        "  #start state\n",
        "  i = 0\n",
        "\n",
        "  #total probability\n",
        "  prob = 1\n",
        "\n",
        "  #returns true if operands on either side are not equal to each other\n",
        "  while i != days:\n",
        "    if activityToday == \"Sleep\":\n",
        "      change = np.random.choice(transition[0],replace=True, p=ProbabilityMatrix[0])\n",
        "      if change == \"SS\":\n",
        "        prob = prob * 0.1\n",
        "        activityList.append(\"Sleep\")\n",
        "        pass\n",
        "      elif change == \"SG\":\n",
        "        prob = prob * 0.7\n",
        "        activityToday = \"Gym\"\n",
        "        activityList.append(\"Gym\")\n",
        "        pass\n",
        "      else:\n",
        "        prob = prob * 0.2\n",
        "        activityToday = \"Netflix\"\n",
        "        activityList.append(\"Netflix\")\n",
        "        pass\n",
        "    elif activityToday == \"Netflix\":\n",
        "      change = np.random.choice(transition[1],replace=True, p=ProbabilityMatrix[1])\n",
        "      if change == \"NS\":\n",
        "        prob = prob * 0.1\n",
        "        activityToday = \"Sleep\"\n",
        "        activityList.append(\"Sleep\")\n",
        "        pass\n",
        "      elif change == \"NG\":\n",
        "        prob = prob * 0.7\n",
        "        activityToday = \"Gym\"\n",
        "        activityList.append(\"Gym\")\n",
        "        pass\n",
        "      else:\n",
        "        prob = prob * 0.2\n",
        "        activityList.append(\"Netflix\")\n",
        "        pass\n",
        "    elif activityToday == \"Gym\":\n",
        "      change = np.random.choice(transition[2],replace=True, p=ProbabilityMatrix[2])\n",
        "      if change == \"GS\":\n",
        "        prob = prob * 0.6\n",
        "        activityToday = \"Sleep\"\n",
        "        activityList.append(\"Sleep\")\n",
        "        pass\n",
        "      elif change == \"GG\":\n",
        "        prob = prob * 0.1        \n",
        "        activityList.append(\"Gym\")\n",
        "        pass\n",
        "      else:\n",
        "        prob = prob * 0.3\n",
        "        activityToday = \"Netflix\"\n",
        "        activityList.append(\"Netflix\")\n",
        "        pass\n",
        "    i += 1\n",
        "    print(\"Possible states: \" + str(activityList))\n",
        "    print(\"End state after  \"+ str(days) + \"days: \" + activityToday)\n",
        "    print(\"Probabilitiy of the possible sequence of states: \"+ str(prob))\n"
      ]
    },
    {
      "cell_type": "code",
      "execution_count": null,
      "metadata": {
        "colab": {
          "base_uri": "https://localhost:8080/"
        },
        "id": "kwwEUIeC_oFo",
        "outputId": "2e896077-b133-47fa-96cd-21dc2c8cac31"
      },
      "outputs": [
        {
          "name": "stdout",
          "output_type": "stream",
          "text": [
            "Start State :  Sleep\n",
            "Possible states: ['Sleep', 'Gym']\n",
            "End state after  1days: Gym\n",
            "Probabilitiy of the possible sequence of states: 0.7\n"
          ]
        }
      ],
      "source": [
        "predict_state(1)\n"
      ]
    },
    {
      "cell_type": "code",
      "execution_count": null,
      "metadata": {
        "id": "3Sn8FOxW_0a_"
      },
      "outputs": [],
      "source": []
    }
  ],
  "metadata": {
    "accelerator": "GPU",
    "colab": {
      "provenance": []
    },
    "kernelspec": {
      "display_name": "Python 3",
      "name": "python3"
    },
    "language_info": {
      "name": "python"
    }
  },
  "nbformat": 4,
  "nbformat_minor": 0
}