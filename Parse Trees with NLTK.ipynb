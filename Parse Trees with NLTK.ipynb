{
  "cells": [
    {
      "cell_type": "markdown",
      "metadata": {
        "id": "pBgmRiNCZ6xd"
      },
      "source": [
        "##<font color='#fbc531'>Parse Trees with NLTK"
      ]
    },
    {
      "cell_type": "markdown",
      "metadata": {
        "id": "HJL0Z5lwzPmT"
      },
      "source": [
        "[NLTK Perceptron Tagger Source](https://www.nltk.org/_modules/nltk/tag/perceptron.html)"
      ]
    },
    {
      "cell_type": "markdown",
      "metadata": {
        "id": "Vg1aWKXJ0AoA"
      },
      "source": [
        "<font color='#fbc531'>Tagger\tAccuracy<br>\n",
        "PerceptronTagger\t98.8%<br>\n",
        "NLTKTagger\t94.0%<br>\n",
        "PatternTagger\t91.6%"
      ]
    },
    {
      "cell_type": "markdown",
      "metadata": {
        "id": "hAVyCNvu15ja"
      },
      "source": [
        "<font color=\"#487eb0\">NLTK data package includes a pre-trained Punkt tokenizer<br><font color=\"#487eb0\">The perceptron part-of-speech tagger implements part-of-speech tagging using the averaged, structured perceptron algorithm.<br>\n",
        "There are other parsers but perceptron is very good"
      ]
    },
    {
      "cell_type": "code",
      "execution_count": null,
      "metadata": {
        "colab": {
          "base_uri": "https://localhost:8080/"
        },
        "id": "ccUi4BcwZ2XJ",
        "outputId": "425e0bbf-6e9e-4dc0-d549-104b2c136c75"
      },
      "outputs": [
        {
          "name": "stderr",
          "output_type": "stream",
          "text": [
            "[nltk_data] Downloading package punkt to /root/nltk_data...\n",
            "[nltk_data]   Unzipping tokenizers/punkt.zip.\n",
            "[nltk_data] Downloading package averaged_perceptron_tagger to\n",
            "[nltk_data]     /root/nltk_data...\n",
            "[nltk_data]   Unzipping taggers/averaged_perceptron_tagger.zip.\n"
          ]
        }
      ],
      "source": [
        "import nltk\n",
        "nltk.download('punkt')     #pretrained tokenizer. break the big sentence into tokens\n",
        "nltk.download('averaged_perceptron_tagger')   #after punkt pos tagginf the tokens\n",
        "from nltk.tokenize import word_tokenize\n",
        "from nltk.tag import pos_tag\n",
        "from nltk import pos_tag, word_tokenize, RegexpParser"
      ]
    },
    {
      "cell_type": "code",
      "execution_count": null,
      "metadata": {
        "id": "ycz5hjnGQZc3"
      },
      "outputs": [],
      "source": [
        "text = 'A shoemaker and his wife were very poor.'"
      ]
    },
    {
      "cell_type": "code",
      "execution_count": null,
      "metadata": {
        "colab": {
          "base_uri": "https://localhost:8080/"
        },
        "id": "5UEBwE0u97yP",
        "outputId": "44d14cc5-24aa-4e1c-dc1c-7d2531cdb1bd"
      },
      "outputs": [
        {
          "data": {
            "text/plain": [
              "[('A', 'DT'),\n",
              " ('shoemaker', 'NN'),\n",
              " ('and', 'CC'),\n",
              " ('his', 'PRP$'),\n",
              " ('wife', 'NN'),\n",
              " ('were', 'VBD'),\n",
              " ('very', 'RB'),\n",
              " ('poor', 'JJ'),\n",
              " ('.', '.')]"
            ]
          },
          "execution_count": 7,
          "metadata": {},
          "output_type": "execute_result"
        }
      ],
      "source": [
        "tags = pos_tag(word_tokenize(text))\n",
        "tags"
      ]
    },
    {
      "cell_type": "markdown",
      "metadata": {
        "id": "NMTUsqOQPv5y"
      },
      "source": [
        "This is individual extraction. \n",
        "We have to figure out phrases to create a parse tree\n",
        "And phrases should be in the order : NP followed by VP"
      ]
    },
    {
      "cell_type": "markdown",
      "metadata": {
        "id": "vbEovUeTTZW2"
      },
      "source": [
        "![picture](https://www.studentuk.com/wp-content/uploads/2016/08/short-story-the-elves-and-the-shoemaker.jpeg)"
      ]
    },
    {
      "cell_type": "markdown",
      "metadata": {
        "id": "sQkTdPBEQBiN"
      },
      "source": [
        "Chunk Extraction"
      ]
    },
    {
      "cell_type": "markdown",
      "metadata": {
        "id": "Ri3PuYyEbr20"
      },
      "source": [
        "[IBM Watson Resource for Part-of-speech tags](https://www.ibm.com/docs/en/wca/3.5.0?topic=analytics-part-speech-tag-sets)<br>[NLTK Chunking notes](http://www.nltk.org/howto/chunk.html#:~:text=Chunking%20uses%20a%20special%20regexp,a%20sentence%20can%20be%20chunked.)"
      ]
    },
    {
      "cell_type": "code",
      "execution_count": null,
      "metadata": {
        "id": "XloxsxdqP4eB"
      },
      "outputs": [],
      "source": [
        "chunker = RegexpParser(\"\"\"\n",
        "  NP : {<DT>?<JJ>*<NN>}     #extracting NP\n",
        "  P : {<IN>}                #extracting prepositions\n",
        "  V : {<V.*>}               #extracting verbs\n",
        "  PP : {<P> <NP>}           #extracting prepostion phrase\n",
        "  VP : {<V> <NP|PP>*}       #extracting verb phrase    \n",
        "  \"\"\")"
      ]
    },
    {
      "cell_type": "markdown",
      "metadata": {
        "id": "h9yUheNOSXj1"
      },
      "source": [
        "### Our Parse Tree"
      ]
    },
    {
      "cell_type": "code",
      "execution_count": null,
      "metadata": {
        "colab": {
          "base_uri": "https://localhost:8080/"
        },
        "id": "McW-kSbdRqBm",
        "outputId": "595a68ea-5797-4d0a-8d2b-e6313629c231"
      },
      "outputs": [
        {
          "name": "stdout",
          "output_type": "stream",
          "text": [
            "Our Parse Notation : \n",
            " (S\n",
            "  (NP A/DT shoemaker/NN)\n",
            "  and/CC\n",
            "  his/PRP$\n",
            "  (NP wife/NN)\n",
            "  (VP (V were/VBD))\n",
            "  very/RB\n",
            "  poor/JJ\n",
            "  ./.)\n"
          ]
        }
      ],
      "source": [
        "result = chunker.parse(tags)\n",
        "print(\"Our Parse Notation : \\n\",result)"
      ]
    },
    {
      "cell_type": "markdown",
      "metadata": {
        "id": "Jb59fPFWfMRy"
      },
      "source": [
        "<font color='#fd79a8'>Bracketed notation above - another way of representing a parse tree"
      ]
    },
    {
      "cell_type": "markdown",
      "metadata": {
        "id": "lPt6CK-WSk-x"
      },
      "source": [
        "Another Example"
      ]
    },
    {
      "cell_type": "code",
      "execution_count": null,
      "metadata": {
        "colab": {
          "base_uri": "https://localhost:8080/"
        },
        "id": "inAlO_QmBX2O",
        "outputId": "76b77da6-064e-449f-c302-60b513c4fbe6"
      },
      "outputs": [
        {
          "name": "stdout",
          "output_type": "stream",
          "text": [
            "Our Parse Notation : \n",
            " (S\n",
            "  (NP The/DT boy/NN)\n",
            "  (VP (V ate/VB))\n",
            "  the/DT\n",
            "  pancakes/NNS\n",
            "  (PP (P from/IN) (NP the/DT restaurant/NN)))\n"
          ]
        }
      ],
      "source": [
        "text = \"The boy ate the pancakes from the restaurant\"\n",
        "tags = pos_tag(word_tokenize(text))\n",
        "result = chunker.parse(tags)\n",
        "print(\"Our Parse Notation : \\n\",result)"
      ]
    },
    {
      "cell_type": "markdown",
      "source": [
        "this function does not work on google colab."
      ],
      "metadata": {
        "id": "GdiZLMaUAkP6"
      }
    },
    {
      "cell_type": "code",
      "execution_count": null,
      "metadata": {
        "colab": {
          "base_uri": "https://localhost:8080/",
          "height": 311
        },
        "id": "2Qt2xaCpbpzl",
        "outputId": "1bfa8bdb-25c6-4802-b9ff-97c0ce33cbaf"
      },
      "outputs": [
        {
          "ename": "TclError",
          "evalue": "ignored",
          "output_type": "error",
          "traceback": [
            "\u001b[0;31m---------------------------------------------------------------------------\u001b[0m",
            "\u001b[0;31mTclError\u001b[0m                                  Traceback (most recent call last)",
            "\u001b[0;32m<ipython-input-14-6828c246cf50>\u001b[0m in \u001b[0;36m<module>\u001b[0;34m\u001b[0m\n\u001b[0;32m----> 1\u001b[0;31m \u001b[0mresult\u001b[0m\u001b[0;34m.\u001b[0m\u001b[0mdraw\u001b[0m\u001b[0;34m(\u001b[0m\u001b[0;34m)\u001b[0m\u001b[0;34m\u001b[0m\u001b[0;34m\u001b[0m\u001b[0m\n\u001b[0m",
            "\u001b[0;32m/usr/local/lib/python3.8/dist-packages/nltk/tree/tree.py\u001b[0m in \u001b[0;36mdraw\u001b[0;34m(self)\u001b[0m\n\u001b[1;32m    760\u001b[0m         \u001b[0;32mfrom\u001b[0m \u001b[0mnltk\u001b[0m\u001b[0;34m.\u001b[0m\u001b[0mdraw\u001b[0m\u001b[0;34m.\u001b[0m\u001b[0mtree\u001b[0m \u001b[0;32mimport\u001b[0m \u001b[0mdraw_trees\u001b[0m\u001b[0;34m\u001b[0m\u001b[0;34m\u001b[0m\u001b[0m\n\u001b[1;32m    761\u001b[0m \u001b[0;34m\u001b[0m\u001b[0m\n\u001b[0;32m--> 762\u001b[0;31m         \u001b[0mdraw_trees\u001b[0m\u001b[0;34m(\u001b[0m\u001b[0mself\u001b[0m\u001b[0;34m)\u001b[0m\u001b[0;34m\u001b[0m\u001b[0;34m\u001b[0m\u001b[0m\n\u001b[0m\u001b[1;32m    763\u001b[0m \u001b[0;34m\u001b[0m\u001b[0m\n\u001b[1;32m    764\u001b[0m     \u001b[0;32mdef\u001b[0m \u001b[0mpretty_print\u001b[0m\u001b[0;34m(\u001b[0m\u001b[0mself\u001b[0m\u001b[0;34m,\u001b[0m \u001b[0msentence\u001b[0m\u001b[0;34m=\u001b[0m\u001b[0;32mNone\u001b[0m\u001b[0;34m,\u001b[0m \u001b[0mhighlight\u001b[0m\u001b[0;34m=\u001b[0m\u001b[0;34m(\u001b[0m\u001b[0;34m)\u001b[0m\u001b[0;34m,\u001b[0m \u001b[0mstream\u001b[0m\u001b[0;34m=\u001b[0m\u001b[0;32mNone\u001b[0m\u001b[0;34m,\u001b[0m \u001b[0;34m**\u001b[0m\u001b[0mkwargs\u001b[0m\u001b[0;34m)\u001b[0m\u001b[0;34m:\u001b[0m\u001b[0;34m\u001b[0m\u001b[0;34m\u001b[0m\u001b[0m\n",
            "\u001b[0;32m/usr/local/lib/python3.8/dist-packages/nltk/draw/tree.py\u001b[0m in \u001b[0;36mdraw_trees\u001b[0;34m(*trees)\u001b[0m\n\u001b[1;32m   1006\u001b[0m     \u001b[0;34m:\u001b[0m\u001b[0mrtype\u001b[0m\u001b[0;34m:\u001b[0m \u001b[0;32mNone\u001b[0m\u001b[0;34m\u001b[0m\u001b[0;34m\u001b[0m\u001b[0m\n\u001b[1;32m   1007\u001b[0m     \"\"\"\n\u001b[0;32m-> 1008\u001b[0;31m     \u001b[0mTreeView\u001b[0m\u001b[0;34m(\u001b[0m\u001b[0;34m*\u001b[0m\u001b[0mtrees\u001b[0m\u001b[0;34m)\u001b[0m\u001b[0;34m.\u001b[0m\u001b[0mmainloop\u001b[0m\u001b[0;34m(\u001b[0m\u001b[0;34m)\u001b[0m\u001b[0;34m\u001b[0m\u001b[0;34m\u001b[0m\u001b[0m\n\u001b[0m\u001b[1;32m   1009\u001b[0m     \u001b[0;32mreturn\u001b[0m\u001b[0;34m\u001b[0m\u001b[0;34m\u001b[0m\u001b[0m\n\u001b[1;32m   1010\u001b[0m \u001b[0;34m\u001b[0m\u001b[0m\n",
            "\u001b[0;32m/usr/local/lib/python3.8/dist-packages/nltk/draw/tree.py\u001b[0m in \u001b[0;36m__init__\u001b[0;34m(self, *trees)\u001b[0m\n\u001b[1;32m    857\u001b[0m         \u001b[0mself\u001b[0m\u001b[0;34m.\u001b[0m\u001b[0m_trees\u001b[0m \u001b[0;34m=\u001b[0m \u001b[0mtrees\u001b[0m\u001b[0;34m\u001b[0m\u001b[0;34m\u001b[0m\u001b[0m\n\u001b[1;32m    858\u001b[0m \u001b[0;34m\u001b[0m\u001b[0m\n\u001b[0;32m--> 859\u001b[0;31m         \u001b[0mself\u001b[0m\u001b[0;34m.\u001b[0m\u001b[0m_top\u001b[0m \u001b[0;34m=\u001b[0m \u001b[0mTk\u001b[0m\u001b[0;34m(\u001b[0m\u001b[0;34m)\u001b[0m\u001b[0;34m\u001b[0m\u001b[0;34m\u001b[0m\u001b[0m\n\u001b[0m\u001b[1;32m    860\u001b[0m         \u001b[0mself\u001b[0m\u001b[0;34m.\u001b[0m\u001b[0m_top\u001b[0m\u001b[0;34m.\u001b[0m\u001b[0mtitle\u001b[0m\u001b[0;34m(\u001b[0m\u001b[0;34m\"NLTK\"\u001b[0m\u001b[0;34m)\u001b[0m\u001b[0;34m\u001b[0m\u001b[0;34m\u001b[0m\u001b[0m\n\u001b[1;32m    861\u001b[0m         \u001b[0mself\u001b[0m\u001b[0;34m.\u001b[0m\u001b[0m_top\u001b[0m\u001b[0;34m.\u001b[0m\u001b[0mbind\u001b[0m\u001b[0;34m(\u001b[0m\u001b[0;34m\"<Control-x>\"\u001b[0m\u001b[0;34m,\u001b[0m \u001b[0mself\u001b[0m\u001b[0;34m.\u001b[0m\u001b[0mdestroy\u001b[0m\u001b[0;34m)\u001b[0m\u001b[0;34m\u001b[0m\u001b[0;34m\u001b[0m\u001b[0m\n",
            "\u001b[0;32m/usr/lib/python3.8/tkinter/__init__.py\u001b[0m in \u001b[0;36m__init__\u001b[0;34m(self, screenName, baseName, className, useTk, sync, use)\u001b[0m\n\u001b[1;32m   2259\u001b[0m                 \u001b[0mbaseName\u001b[0m \u001b[0;34m=\u001b[0m \u001b[0mbaseName\u001b[0m \u001b[0;34m+\u001b[0m \u001b[0mext\u001b[0m\u001b[0;34m\u001b[0m\u001b[0;34m\u001b[0m\u001b[0m\n\u001b[1;32m   2260\u001b[0m         \u001b[0minteractive\u001b[0m \u001b[0;34m=\u001b[0m \u001b[0;36m0\u001b[0m\u001b[0;34m\u001b[0m\u001b[0;34m\u001b[0m\u001b[0m\n\u001b[0;32m-> 2261\u001b[0;31m         \u001b[0mself\u001b[0m\u001b[0;34m.\u001b[0m\u001b[0mtk\u001b[0m \u001b[0;34m=\u001b[0m \u001b[0m_tkinter\u001b[0m\u001b[0;34m.\u001b[0m\u001b[0mcreate\u001b[0m\u001b[0;34m(\u001b[0m\u001b[0mscreenName\u001b[0m\u001b[0;34m,\u001b[0m \u001b[0mbaseName\u001b[0m\u001b[0;34m,\u001b[0m \u001b[0mclassName\u001b[0m\u001b[0;34m,\u001b[0m \u001b[0minteractive\u001b[0m\u001b[0;34m,\u001b[0m \u001b[0mwantobjects\u001b[0m\u001b[0;34m,\u001b[0m \u001b[0museTk\u001b[0m\u001b[0;34m,\u001b[0m \u001b[0msync\u001b[0m\u001b[0;34m,\u001b[0m \u001b[0muse\u001b[0m\u001b[0;34m)\u001b[0m\u001b[0;34m\u001b[0m\u001b[0;34m\u001b[0m\u001b[0m\n\u001b[0m\u001b[1;32m   2262\u001b[0m         \u001b[0;32mif\u001b[0m \u001b[0museTk\u001b[0m\u001b[0;34m:\u001b[0m\u001b[0;34m\u001b[0m\u001b[0;34m\u001b[0m\u001b[0m\n\u001b[1;32m   2263\u001b[0m             \u001b[0mself\u001b[0m\u001b[0;34m.\u001b[0m\u001b[0m_loadtk\u001b[0m\u001b[0;34m(\u001b[0m\u001b[0;34m)\u001b[0m\u001b[0;34m\u001b[0m\u001b[0;34m\u001b[0m\u001b[0m\n",
            "\u001b[0;31mTclError\u001b[0m: no display name and no $DISPLAY environment variable"
          ]
        }
      ],
      "source": [
        "result.draw()     "
      ]
    },
    {
      "cell_type": "code",
      "execution_count": null,
      "metadata": {
        "id": "vlR9AuO4i-wQ"
      },
      "outputs": [],
      "source": []
    }
  ],
  "metadata": {
    "accelerator": "GPU",
    "colab": {
      "provenance": []
    },
    "kernelspec": {
      "display_name": "Python 3",
      "name": "python3"
    },
    "language_info": {
      "name": "python"
    }
  },
  "nbformat": 4,
  "nbformat_minor": 0
}