{
  "cells": [
    {
      "cell_type": "markdown",
      "metadata": {
        "id": "-63ihZ8ufu6T"
      },
      "source": [
        "#<font color='#2ecc71' > Co-Occurence Matrix <br> Frequency-based Word Embedding<br>NLTK"
      ]
    },
    {
      "cell_type": "code",
      "execution_count": null,
      "metadata": {
        "id": "iVlh07i8Ba8p"
      },
      "outputs": [],
      "source": [
        "import numpy as np\n",
        "import nltk\n",
        "from nltk import bigrams\n",
        "import itertools\n",
        "import pandas as pd"
      ]
    },
    {
      "cell_type": "markdown",
      "metadata": {
        "id": "efPLueoKhVAM"
      },
      "source": [
        "###<font color='#2ecc71' > Define function to loop through bigrams - recording the current and next words. <br> Then calculate the number of occurences of the bigram. "
      ]
    },
    {
      "cell_type": "markdown",
      "metadata": {
        "id": "OHzMKVx-1kRH"
      },
      "source": [
        "FreqDist is a class of nltk probability module. It is used to encode freq distributions"
      ]
    },
    {
      "cell_type": "code",
      "execution_count": null,
      "metadata": {
        "id": "LXzfvRv3BXUY"
      },
      "outputs": [],
      "source": [
        "def co_occurance_matrix(corpus):\n",
        "   vocab = set(corpus)    #to create a set object, does not have any order to it\n",
        "   vocab = list(vocab)\n",
        "   vocab_index = {word : i for i, word in enumerate(vocab)}\n",
        "\n",
        "   bi_grams = list(bigrams(corpus))\n",
        "   \n",
        "   #no of occurance of bigrams\n",
        "   bigram_freq = nltk.FreqDist(bi_grams).most_common(len(bi_grams))\n",
        "\n",
        "   co_occur = np.zeros((len(vocab),len(vocab)))\n",
        "   #it is in the form : co_occur[current][previous]\n",
        "\n",
        "   for bigram in bigram_freq:\n",
        "     current = bigram[0][1]\n",
        "     previous = bigram[0][0]\n",
        "     count = bigram[1]\n",
        "     word_current = vocab_index[current]\n",
        "     word_previous= vocab_index[previous]\n",
        "     co_occur[word_current][word_previous] = count\n",
        "   co_occur = np.matrix(co_occur)\n",
        "\n",
        "   return co_occur,vocab_index\n",
        "\n"
      ]
    },
    {
      "cell_type": "code",
      "execution_count": null,
      "metadata": {
        "id": "D2G0lzhSk09G"
      },
      "outputs": [],
      "source": []
    },
    {
      "cell_type": "markdown",
      "metadata": {
        "id": "bb12n_aRgbha"
      },
      "source": [
        "#<font color='#2ecc71' > Create Dataframe & Calculate Similariry Scores Between 2 Words - Pass Corpus Into Function Defined Above. "
      ]
    },
    {
      "cell_type": "code",
      "execution_count": null,
      "metadata": {
        "id": "rKTLZohPBgt2"
      },
      "outputs": [],
      "source": [
        "corpus = [['penny','wise','penny','foolish'],\n",
        "          ['a','penny','saved','is','a','penny','earned']]\n",
        "\n",
        "#gives us an iterable data structure\n",
        "my_list = list(itertools.chain.from_iterable(corpus))\n",
        "matrix, vocab_index = co_occurance_matrix(my_list)\n",
        "\n",
        "co_matrix = pd.DataFrame(matrix, index = vocab_index, columns = vocab_index)"
      ]
    },
    {
      "cell_type": "code",
      "execution_count": null,
      "metadata": {
        "colab": {
          "base_uri": "https://localhost:8080/"
        },
        "id": "U43yvZR0r0fy",
        "outputId": "1af73788-9025-4ad5-db71-541bcccc1c64"
      },
      "outputs": [
        {
          "name": "stdout",
          "output_type": "stream",
          "text": [
            "         penny    a  earned  foolish  saved   is  wise\n",
            "penny      0.0  2.0     0.0      0.0    0.0  0.0   1.0\n",
            "a          0.0  0.0     0.0      1.0    0.0  1.0   0.0\n",
            "earned     1.0  0.0     0.0      0.0    0.0  0.0   0.0\n",
            "foolish    1.0  0.0     0.0      0.0    0.0  0.0   0.0\n",
            "saved      1.0  0.0     0.0      0.0    0.0  0.0   0.0\n",
            "is         0.0  0.0     0.0      0.0    1.0  0.0   0.0\n",
            "wise       1.0  0.0     0.0      0.0    0.0  0.0   0.0\n"
          ]
        }
      ],
      "source": [
        "print(co_matrix)"
      ]
    },
    {
      "cell_type": "code",
      "execution_count": null,
      "metadata": {
        "colab": {
          "base_uri": "https://localhost:8080/"
        },
        "id": "ONjx27Xf3QTL",
        "outputId": "ca9fc107-09c7-4dbd-95f8-12698356ba93"
      },
      "outputs": [
        {
          "data": {
            "text/plain": [
              "(7, 7)"
            ]
          },
          "execution_count": 14,
          "metadata": {},
          "output_type": "execute_result"
        }
      ],
      "source": [
        "#size of our matrix\n",
        "co_matrix.shape"
      ]
    },
    {
      "cell_type": "code",
      "execution_count": null,
      "metadata": {
        "id": "MWZPnHGb3jG4"
      },
      "outputs": [],
      "source": []
    }
  ],
  "metadata": {
    "accelerator": "GPU",
    "colab": {
      "provenance": []
    },
    "kernelspec": {
      "display_name": "Python 3",
      "name": "python3"
    },
    "language_info": {
      "name": "python"
    }
  },
  "nbformat": 4,
  "nbformat_minor": 0
}