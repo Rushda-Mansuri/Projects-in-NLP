{
  "cells": [
    {
      "cell_type": "markdown",
      "metadata": {
        "id": "r31rYsMHGIpW"
      },
      "source": [
        "#<font color='#00d8d6'> Part of Speech Tagging<br>\n",
        "<font color='#05c46b' >NLTK Taggers<br>This package contains classes for part-of-speech tagging, or simply “tagging”.<br>A “tag” specifies some property of a token, such as its part of speech. <br>An Off-the-self tagger is available for English <br>\n",
        "<font color='#00d8d6'>Functions: <br>punkt is used for tokenising sentences <br> averaged_perceptron_tagger is used for tagging words with their parts of speech (POS)."
      ]
    },
    {
      "cell_type": "code",
      "execution_count": null,
      "metadata": {
        "colab": {
          "base_uri": "https://localhost:8080/"
        },
        "id": "xqr2LdXHcme0",
        "outputId": "f28a63f3-5c6d-49f2-8775-070ea502f9aa"
      },
      "outputs": [
        {
          "name": "stderr",
          "output_type": "stream",
          "text": [
            "[nltk_data] Downloading package punkt to /root/nltk_data...\n",
            "[nltk_data]   Unzipping tokenizers/punkt.zip.\n",
            "[nltk_data] Downloading package averaged_perceptron_tagger to\n",
            "[nltk_data]     /root/nltk_data...\n",
            "[nltk_data]   Unzipping taggers/averaged_perceptron_tagger.zip.\n"
          ]
        },
        {
          "data": {
            "text/plain": [
              "True"
            ]
          },
          "execution_count": 1,
          "metadata": {},
          "output_type": "execute_result"
        }
      ],
      "source": [
        "import nltk\n",
        "nltk.download('punkt')\n",
        "nltk.download('averaged_perceptron_tagger')"
      ]
    },
    {
      "cell_type": "code",
      "execution_count": null,
      "metadata": {
        "id": "NeBBzm0Icuba"
      },
      "outputs": [],
      "source": [
        "#sentence = \"The boy ate the pancakes under the table\"\n",
        "sentence = \"Rushda likes to eat Mangoes.\""
      ]
    },
    {
      "cell_type": "markdown",
      "metadata": {
        "id": "Xcj3DMKZJyo-"
      },
      "source": [
        "<font color='#00d8d6'>tokenize </font>\n",
        "<br>breaking up words of sentence into individual tokens"
      ]
    },
    {
      "cell_type": "code",
      "execution_count": null,
      "metadata": {
        "colab": {
          "base_uri": "https://localhost:8080/"
        },
        "id": "DVIX2UFrJvlF",
        "outputId": "037b248d-cef6-4583-d469-c3a3a0b82d5e"
      },
      "outputs": [
        {
          "name": "stdout",
          "output_type": "stream",
          "text": [
            "['Rushda', 'likes', 'to', 'eat', 'Mangoes', '.']\n"
          ]
        }
      ],
      "source": [
        "token = nltk.word_tokenize(sentence)\n",
        "print(token)"
      ]
    },
    {
      "cell_type": "markdown",
      "metadata": {
        "id": "wgBRvE9_KHpJ"
      },
      "source": [
        "<font color='#00d8d6'> POS Tagging </font>\n",
        "<br>tagging each token with what part of speech it is."
      ]
    },
    {
      "cell_type": "code",
      "execution_count": null,
      "metadata": {
        "colab": {
          "base_uri": "https://localhost:8080/"
        },
        "id": "POxCgpcnKAN0",
        "outputId": "56377f78-0784-4558-d20d-d92d61688657"
      },
      "outputs": [
        {
          "name": "stdout",
          "output_type": "stream",
          "text": [
            "[('Rushda', 'NNP'), ('likes', 'VBZ'), ('to', 'TO'), ('eat', 'VB'), ('Mangoes', 'NNP'), ('.', '.')]\n"
          ]
        }
      ],
      "source": [
        "tags = nltk.pos_tag(token)\n",
        "print(tags)"
      ]
    },
    {
      "cell_type": "markdown",
      "metadata": {
        "id": "f6zytdUfGtmS"
      },
      "source": [
        "To see the abbreviations list : \n",
        "<br>\n",
        "[IBM Watson Resource For Part Of Speech](https://www.ibm.com/docs/en/wca/3.5.0?topic=analytics-part-speech-tag-sets)"
      ]
    },
    {
      "cell_type": "code",
      "execution_count": null,
      "metadata": {
        "id": "_K9aRY1dv4Xb"
      },
      "outputs": [],
      "source": []
    }
  ],
  "metadata": {
    "colab": {
      "provenance": []
    },
    "kernelspec": {
      "display_name": "Python 3",
      "name": "python3"
    },
    "language_info": {
      "name": "python"
    }
  },
  "nbformat": 4,
  "nbformat_minor": 0
}